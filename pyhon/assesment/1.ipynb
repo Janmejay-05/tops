{
 "cells": [
  {
   "cell_type": "code",
   "execution_count": 12,
   "id": "5af5c914",
   "metadata": {},
   "outputs": [
    {
     "name": "stdout",
     "output_type": "stream",
     "text": [
      "Heat Alert\n"
     ]
    }
   ],
   "source": [
    "# Read an integer temperature in °C and print:\n",
    "# \"Heat Alert\" if temp ≥ 40\n",
    "# \"Warm\" if 30–39\n",
    "# \"Pleasant\" if 20–29\n",
    "# \"Cool\" if 10–19\n",
    "# Else \"Cold\"\n",
    "\n",
    "temp=int(input(\"what is the temperature ? : \"))\n",
    "\n",
    "if temp>=40:\n",
    "    print(\"Heat Alert\")\n",
    "elif temp>=30 and temp<=39:\n",
    "    print(\"Warm\")\n",
    "elif temp>=20 and temp<=29:\n",
    "    print(\"Pleasent\")\n",
    "elif temp>=10 and temp<=19:\n",
    "    print(\"Cool\")\n",
    "else:\n",
    "    print(\"Cold\")\n"
   ]
  },
  {
   "cell_type": "code",
   "execution_count": 11,
   "id": "70077dec",
   "metadata": {},
   "outputs": [
    {
     "name": "stdout",
     "output_type": "stream",
     "text": [
      "The amount you have to pay is RS 4400.0\n"
     ]
    }
   ],
   "source": [
    "# Given purchase_amount and membership (\"none\"/\"silver\"/\"gold\"), print final_amount after applying:\n",
    "# 0%, 5%, or 10% discount respectively\\\n",
    "# Extra ₹100 off only if membership is \"gold\" and purchase_amount > 5000\n",
    "\n",
    "p_amount=int(input(\"enter the purchase amount\"))\n",
    "membership=input(\"enter your membership plan and if not then enter none\")\n",
    "bill=0\n",
    "\n",
    "if membership==\"none\":\n",
    "    bill=p_amount\n",
    "elif membership==\"silver\":\n",
    "    bill= p_amount-(0.05*p_amount)\n",
    "elif membership==\"gold\":\n",
    "    if p_amount>=5000:\n",
    "        bill= p_amount-(0.10*p_amount)-100\n",
    "    else:\n",
    "        bill= p_amount-(0.10*p_amount)\n",
    "\n",
    "\n",
    "print(f\"The amount you have to pay is RS {bill}\")"
   ]
  },
  {
   "cell_type": "code",
   "execution_count": 16,
   "id": "278b4435",
   "metadata": {},
   "outputs": [
    {
     "name": "stdout",
     "output_type": "stream",
     "text": [
      "the triangel is Scalene triangle\n"
     ]
    }
   ],
   "source": [
    "# Input three sides a, b, c; print:\n",
    "# \"Invalid Triangle\" if triangle inequality fails\n",
    "# Else print \"Equilateral\" / \"Isosceles\" / \"Scalene\" accordingly\n",
    "\n",
    "\n",
    "a=int(input(\"enter the value of a\"))\n",
    "b=int(input(\"enter the value of b\"))\n",
    "c=int(input(\"enter the value of c\"))\n",
    "\n",
    "count=0\n",
    "\n",
    "if a==b and a==c:\n",
    "    print(\"the triangle is equilateral triangle\")\n",
    "elif a==b or b==c or a==c:\n",
    "    print(\"the triangle is an isosceles triangle\") \n",
    "else:\n",
    "    print(\"the triangel is Scalene triangle\")\n",
    "    "
   ]
  },
  {
   "cell_type": "code",
   "execution_count": 27,
   "id": "7af6c6ec",
   "metadata": {},
   "outputs": [
    {
     "name": "stdout",
     "output_type": "stream",
     "text": [
      "hr : 5  min : 60\n",
      "invalid input of time formate\n"
     ]
    }
   ],
   "source": [
    "# Read hour (0–23) and minute (0–59); print:\n",
    "# \"Peak Fare\" if time is 08:00–10:00 or 18:00–20:00\n",
    "# \"Night Surcharge\" if 22:00–05:59\n",
    "# Else \"Normal Fare\"\n",
    "\n",
    "time=input(\"enter the time in the HH:MM formate hrs and mins 0-24 hrs and 0-59n mins\")\n",
    "hr=int(time.split(\":\")[0])\n",
    "min=int(time.split(\":\")[1])\n",
    "print(f\"hr : {hr}  min : {min}\")\n",
    "\n",
    "if len(time)!=5:\n",
    "    print(\"invalid output, the formate is HH:MM\")\n",
    "else:\n",
    "    if (hr>=0 and hr<=23) and (min>=0 and min<=59):\n",
    "        if (hr>=8 and hr<=10) or (hr>=18 and hr<=20):\n",
    "            if (hr==10 and min>0) or (hr==20 and min>0):\n",
    "                print(\"Normal Fare\")\n",
    "            else:\n",
    "                print(\"Peak Fare\")\n",
    "        elif (hr>=22 and hr<=23) or (hr>=0 and hr<=5):\n",
    "            print(\"Night Surcharge\")\n",
    "        else:\n",
    "            print(\"Normal Fare\")\n",
    "    else:\n",
    "        print(\"invalid input of time formate\")"
   ]
  },
  {
   "cell_type": "code",
   "execution_count": 6,
   "id": "b5f59672",
   "metadata": {},
   "outputs": [
    {
     "name": "stdout",
     "output_type": "stream",
     "text": [
      "avg is 85.33333333333333\n",
      "Pass with distinction\n"
     ]
    }
   ],
   "source": [
    "# Given marks in three subjects (m1, m2, m3), print:\n",
    "# \"Fail\" if any < 40\n",
    "# Else \"Pass with Distinction\" if average ≥ 85\n",
    "# Else \"Pass\"\n",
    "\n",
    "\n",
    "def result(m1,m2,m3):\n",
    "\n",
    "    avg=(m1+m2+m3)/3\n",
    "    print(f\"avg is {avg}\")\n",
    "    \n",
    "    if m1<40 or m2<40 or m3<40:\n",
    "        print(\"Fail\")\n",
    "    elif avg>=85:\n",
    "        print(\"Pass with distinction\")\n",
    "    else:\n",
    "        print(\"pass\")\n",
    "\n",
    "\n",
    "m1=int(input(\"enter the marks of m1 : \"))\n",
    "m2=int(input(\"enter the marks of m2 : \"))\n",
    "m3=int(input(\"enter the marks of m3 : \"))\n",
    "\n",
    "result(m1,m2,m3)\n"
   ]
  },
  {
   "cell_type": "code",
   "execution_count": 12,
   "id": "7b7974c7",
   "metadata": {},
   "outputs": [
    {
     "name": "stdout",
     "output_type": "stream",
     "text": [
      "Missing\n"
     ]
    }
   ],
   "source": [
    "# Read a string s; print:\n",
    "# \"Missing\" if string is empty after stripping or equals (case-insensitive) any of {\"na\",\"n/a\",\"null\",\"none\",\"-\"}\n",
    "# Else \"OK\"\n",
    "\n",
    "\n",
    "not_want={\"na\",\"null\",\"none\",\"n/a\",\"-\"}\n",
    "\n",
    "str=input(\"enter any string : \")\n",
    "\n",
    "if str.strip()==\"\" or str.strip().lower() in not_want:\n",
    "    print(\"Missing\")\n",
    "else:\n",
    "    print(\"OK\")"
   ]
  },
  {
   "cell_type": "code",
   "execution_count": 15,
   "id": "5fb483bd",
   "metadata": {},
   "outputs": [
    {
     "name": "stdout",
     "output_type": "stream",
     "text": [
      "Eligible with Guarantor\n"
     ]
    }
   ],
   "source": [
    "# Given income and cibil_score, print:\n",
    "# \"Eligible\" if income ≥ 300000 and cibil ≥ 750\n",
    "# \"Eligible with Guarantor\" if income ≥ 300000 and 650 ≤ cibil < 750\n",
    "# Else \"Not Eligible\"\n",
    "\n",
    "income=int(input(\"enter your income : \"))\n",
    "cibil_score=int(input(\"enter your cibil score : \"))\n",
    "\n",
    "\n",
    "if income>=300000 and cibil_score>=750:\n",
    "    print(\"Eligible\")\n",
    "elif income>=300000 and cibil_score>=650 and cibil_score<750:\n",
    "    print(\"Eligible with Guarantor\")\n",
    "else:\n",
    "    print(\"Not Eligible\")\n"
   ]
  },
  {
   "cell_type": "code",
   "execution_count": 20,
   "id": "bf0e54a6",
   "metadata": {},
   "outputs": [
    {
     "name": "stdout",
     "output_type": "stream",
     "text": [
      "final coast is 120\n"
     ]
    }
   ],
   "source": [
    "# Read weight_kg and distance_km; compute shipping_cost as:\n",
    "# 50 base + 20 if weight > 5 + 30 if distance > 100\n",
    "# Cap at 200\n",
    "# Print final cost\n",
    "\n",
    "\n",
    "weight=int(input(\"enter the weight in kg : \"))\n",
    "distance=int(input(\"enter the distance in km : \"))\n",
    "\n",
    "base_cost=50\n",
    "\n",
    "final_coast=50\n",
    "\n",
    "if weight>5:\n",
    "    final_coast+=20\n",
    "if distance>100:\n",
    "    final_coast+=50\n",
    "\n",
    "if final_coast>200:\n",
    "    print(\"final coast is 200\")\n",
    "else:\n",
    "    print(f\"final coast is {final_coast}\")"
   ]
  },
  {
   "cell_type": "code",
   "execution_count": 23,
   "id": "47111196",
   "metadata": {},
   "outputs": [
    {
     "name": "stdout",
     "output_type": "stream",
     "text": [
      "Final Coast is 5900.0\n"
     ]
    }
   ],
   "source": [
    "# Input base_price and category (\"food\",\"medicine\",\"goods\",\"exempt\"); apply GST:\n",
    "# 5% for \"food\"\n",
    "# 0% for \"medicine\" or \"exempt\"\n",
    "# 18% for \"goods\" and others\n",
    "# Print final price rounded to 2 decimals\n",
    "\n",
    "categories={\"food\",\"medicine\",\"goods\",\"exempt\"}\n",
    "base_cost=int(input(\"enter the price of the product : \"))\n",
    "category=input(f\"input categore from below categories {categories}\")\n",
    "\n",
    "final_coast=base_cost\n",
    "\n",
    "if category in categories:\n",
    "    if category==\"food\":\n",
    "        final_coast+=(final_coast*0.05)\n",
    "    elif category==\"medicine\" or category==\"exempt\":\n",
    "        final_coast=final_coast\n",
    "    elif category==\"goods\":\n",
    "        final_coast+=(final_coast*0.18)\n",
    "    else:\n",
    "        final_coast+=(final_coast*0.18)\n",
    "else:\n",
    "    print(\"wrong output\")\n",
    "\n",
    "print(f\"Final Coast is {round(final_coast,2)}\")\n",
    "    \n",
    "\n"
   ]
  },
  {
   "cell_type": "code",
   "execution_count": 25,
   "id": "9922a522",
   "metadata": {},
   "outputs": [
    {
     "name": "stdout",
     "output_type": "stream",
     "text": [
      "Unauthorized\n"
     ]
    }
   ],
   "source": [
    "# Read username and password; print:\n",
    "# \"Login Success\" only if username == \"admin\" and password == \"Secr3t!\"\n",
    "# Else \"Access Denied\"\n",
    "\n",
    "userName=input(\"enter the usename : \")\n",
    "password=input(\"enter the password : \")\n",
    "\n",
    "\n",
    "if userName==\"admin\" and password==\"Secr3t!\":\n",
    "    print(\"Login Successfull\")\n",
    "else:\n",
    "    print(\"Unauthorized\")"
   ]
  },
  {
   "cell_type": "code",
   "execution_count": 30,
   "id": "c85c8f0e",
   "metadata": {},
   "outputs": [
    {
     "name": "stdout",
     "output_type": "stream",
     "text": [
      "your total fare is 300\n"
     ]
    }
   ],
   "source": [
    "# Read km and destination (\"mall\",\"station\",\"airport\",\"other\"); fare calculation:\n",
    "\n",
    "# Base: 50,100,200,80 respectively + 10*km\n",
    "\n",
    "# If fare > 300 reduce by 50\n",
    "\n",
    "# Else if fare > 150 reduce by 30 only if user types \"yes\" for negotiation\n",
    "\n",
    "# Print final fare\n",
    "\n",
    "data={\"mall\":50,\"station\":100,\"airport\":200,\"other\":80}\n",
    "distance=int(input(\"enter the distance in kms : \"))\n",
    "place=input(\"enter the destination you want to reach\")\n",
    "\n",
    "fare=0\n",
    "\n",
    "\n",
    "if place!=\"\":\n",
    "    if place in data:\n",
    "        fare=data[place]+(10*distance)\n",
    "        if fare>300:\n",
    "            fare-=50\n",
    "        elif fare>150 and fare<=300:\n",
    "            opinion=input(f\"do you want the give {fare} or you want to reduce by 30  yes/no\")\n",
    "            if opinion==\"yes\":\n",
    "                fare-=30\n",
    "    else:\n",
    "        fare=80+(10*distance)\n",
    "        if fare>300:\n",
    "            fare-=50\n",
    "        elif fare>150 and fare<=300:\n",
    "            opinion=input(f\"do you want the give {fare} or you want to reduce by 30  yes/no\")\n",
    "            if opinion==\"yes\":\n",
    "                fare-=30\n",
    "else:\n",
    "    print(\"enter any destination place\")\n",
    "\n",
    "\n",
    "print(f\"your total fare is {fare}\")\n"
   ]
  },
  {
   "cell_type": "code",
   "execution_count": 32,
   "id": "b8de936d",
   "metadata": {},
   "outputs": [
    {
     "name": "stdout",
     "output_type": "stream",
     "text": [
      "Your final Bill is 835\n"
     ]
    }
   ],
   "source": [
    "# Input units of electricity; compute bill:\n",
    "\n",
    "# 0 if units == 0\n",
    "\n",
    "# Else 100 fixed + 5 per unit (first 100) + 7 per unit (next 100) + 10 per unit beyond 200\n",
    "\n",
    "# Print bill\n",
    "\n",
    "\n",
    "\n",
    "unit=int(input(\"enter the number of units : \"))\n",
    "\n",
    "bill=0 if unit==0 else 100\n",
    "\n",
    "if unit>0 and unit<=100:\n",
    "    bill+=(unit*5)\n",
    "elif unit>100 and unit<=200:\n",
    "    bill+=(unit*7)\n",
    "elif unit>200:\n",
    "    bill+=(unit*10)\n",
    "\n",
    "\n",
    "print(f\"Your final Bill is {bill}\")"
   ]
  },
  {
   "cell_type": "code",
   "execution_count": 34,
   "id": "93489b68",
   "metadata": {},
   "outputs": [
    {
     "name": "stdout",
     "output_type": "stream",
     "text": [
      "you need to pay 144.0\n"
     ]
    }
   ],
   "source": [
    "# Read age, is_student (\"yes\"/\"no\"), day (\"weekday\"/\"weekend\"); movie ticket:\n",
    "\n",
    "# Base ₹200 on weekend else ₹150\n",
    "\n",
    "# 20% off if age ≤ 12 or ≥ 60\n",
    "\n",
    "# Additional 10% off if student\n",
    "\n",
    "# Print payable amount\n",
    "\n",
    "\n",
    "\n",
    "age=int(input(\"enter the age : \"))\n",
    "is_student=input(\"enter y if you are a student and n if not : \")\n",
    "day=input(\"which day it is weekday or weekend ? : \")\n",
    "\n",
    "amount= 200 if day==\"weekend\" else 150\n",
    "\n",
    "if age>=12 and age<=60:\n",
    "    amount-=(amount*0.2)\n",
    "\n",
    "if is_student==\"y\":\n",
    "    amount-=(amount*0.1)\n",
    "\n",
    "\n",
    "print(f\"you need to pay {amount}\")\n",
    "\n",
    "\n"
   ]
  },
  {
   "cell_type": "code",
   "execution_count": 35,
   "id": "3adf8944",
   "metadata": {},
   "outputs": [
    {
     "name": "stdout",
     "output_type": "stream",
     "text": [
      "b is the median\n"
     ]
    }
   ],
   "source": [
    "# Given three numbers a, b, c; print the median value without sorting.\n",
    "\n",
    "a=int(input(\"enter the number a : \"))\n",
    "b=int(input(\"enter the number b : \"))\n",
    "c=int(input(\"enter the number c : \"))\n",
    "\n",
    "if a>=b and a<=c:\n",
    "    print(\"a is median\")\n",
    "elif b>=a and b<=c:\n",
    "    print(\"b is the median\")\n",
    "else:\n",
    "    print(\"c is the median \")\n"
   ]
  }
 ],
 "metadata": {
  "kernelspec": {
   "display_name": ".venv",
   "language": "python",
   "name": "python3"
  },
  "language_info": {
   "codemirror_mode": {
    "name": "ipython",
    "version": 3
   },
   "file_extension": ".py",
   "mimetype": "text/x-python",
   "name": "python",
   "nbconvert_exporter": "python",
   "pygments_lexer": "ipython3",
   "version": "3.12.5"
  }
 },
 "nbformat": 4,
 "nbformat_minor": 5
}
